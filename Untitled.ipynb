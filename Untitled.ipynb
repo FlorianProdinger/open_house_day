{
 "cells": [
  {
   "cell_type": "code",
   "execution_count": null,
   "id": "24005f10",
   "metadata": {},
   "outputs": [],
   "source": [
    "# loading the pacakges"
   ]
  },
  {
   "cell_type": "code",
   "execution_count": 1,
   "id": "a75165be",
   "metadata": {},
   "outputs": [],
   "source": [
    "from read_sensor import read_data\n",
    "from datetime import datetime as dt\n",
    "import sys\n",
    "import pickle\n",
    "import os\n"
   ]
  },
  {
   "cell_type": "code",
   "execution_count": 2,
   "id": "9abec09a",
   "metadata": {},
   "outputs": [
    {
     "ename": "NameError",
     "evalue": "name 'test' is not defined",
     "output_type": "error",
     "traceback": [
      "\u001b[0;31m---------------------------------------------------------------------------\u001b[0m",
      "\u001b[0;31mNameError\u001b[0m                                 Traceback (most recent call last)",
      "Cell \u001b[0;32mIn[2], line 3\u001b[0m\n\u001b[1;32m      1\u001b[0m \u001b[38;5;66;03m# generate some data\u001b[39;00m\n\u001b[1;32m      2\u001b[0m data_ \u001b[38;5;241m=\u001b[39m read_data()\n\u001b[0;32m----> 3\u001b[0m sample_name_ \u001b[38;5;241m=\u001b[39m \u001b[43mtest\u001b[49m\n\u001b[1;32m      4\u001b[0m time_ \u001b[38;5;241m=\u001b[39m dt\u001b[38;5;241m.\u001b[39mnow()\u001b[38;5;241m.\u001b[39mstrftime(\u001b[38;5;124m\"\u001b[39m\u001b[38;5;124m%\u001b[39m\u001b[38;5;124mY\u001b[39m\u001b[38;5;124m%\u001b[39m\u001b[38;5;124mm\u001b[39m\u001b[38;5;132;01m%d\u001b[39;00m\u001b[38;5;124m_\u001b[39m\u001b[38;5;124m%\u001b[39m\u001b[38;5;124mH\u001b[39m\u001b[38;5;124m%\u001b[39m\u001b[38;5;124mM\u001b[39m\u001b[38;5;124m%\u001b[39m\u001b[38;5;124mS\u001b[39m\u001b[38;5;124m\"\u001b[39m)\n",
      "\u001b[0;31mNameError\u001b[0m: name 'test' is not defined"
     ]
    }
   ],
   "source": [
    "# generate some data\n",
    "data_ = read_data()\n",
    "sample_name_ = \"test\"\n",
    "time_ = dt.now().strftime(\"%Y%m%d_%H%M%S\")"
   ]
  },
  {
   "cell_type": "code",
   "execution_count": null,
   "id": "8cdf70a0",
   "metadata": {},
   "outputs": [],
   "source": [
    "\n",
    "\n",
    "\n",
    "\n",
    "# check if previous measurements were made\n",
    "db_name = \"data.pickle\"\n",
    "if os.path.exists( db_name ):\n",
    "    print(\"loading previous data\")\n",
    "    with open( db_name , \"rb\" ) as f:\n",
    "        data_stored = pickle.load( f )\n",
    "else:\n",
    "    print(\"making new database\")\n",
    "    data_stored = {}\n",
    "\n",
    "\n",
    "# adding new data\n",
    "data_stored[ time_ + \"_\" + sample_name_ ] = data_\n",
    "\n",
    "# plot something or whatever\n",
    "print(data_stored)\n",
    "\n",
    "\n",
    "# add new data\n",
    "if store_data == True:\n",
    "   with open( db_name , 'wb') as f:\n",
    "       pickle.dump( data_stored , f) \n"
   ]
  }
 ],
 "metadata": {
  "kernelspec": {
   "display_name": "Python 3 (ipykernel)",
   "language": "python",
   "name": "python3"
  },
  "language_info": {
   "codemirror_mode": {
    "name": "ipython",
    "version": 3
   },
   "file_extension": ".py",
   "mimetype": "text/x-python",
   "name": "python",
   "nbconvert_exporter": "python",
   "pygments_lexer": "ipython3",
   "version": "3.9.2"
  }
 },
 "nbformat": 4,
 "nbformat_minor": 5
}
