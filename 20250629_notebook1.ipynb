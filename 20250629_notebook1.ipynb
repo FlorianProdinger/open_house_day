{
 "cells": [
  {
   "cell_type": "markdown",
   "id": "61d76166",
   "metadata": {},
   "source": [
    "# Test notebook on my raspberry pi\n",
    "\n",
    "## setup \n",
    "\n",
    "run `nohup jupyter notebook &` on the raspy. The settings are saved on ~/.jupyter/jupyter_notebook_config.py.\n",
    "\n",
    "log into the interactive session on the client pc by using firefox and the adress \"http://192.168.40.112:8888\"\n",
    "\n",
    "navigate to the correct folder in order to load some of the modules I made.\n"
   ]
  },
  {
   "cell_type": "code",
   "execution_count": 6,
   "id": "7dac4480",
   "metadata": {},
   "outputs": [],
   "source": [
    "## loading the pacakges\n",
    "from read_sensor import read_data\n",
    "from datetime import datetime as dt\n",
    "import sys\n",
    "import pickle\n",
    "import os\n",
    "import numpy\n",
    "import pandas as pd\n",
    "\n",
    "from sklearn.decomposition import PCA\n",
    "import matplotlib.pyplot as plt\n",
    "import matplotlib.pyplot as plt\n"
   ]
  },
  {
   "cell_type": "code",
   "execution_count": 41,
   "id": "9b51f5f6",
   "metadata": {},
   "outputs": [],
   "source": []
  },
  {
   "cell_type": "markdown",
   "id": "8636fb21",
   "metadata": {},
   "source": [
    "## Measuring data\n",
    "\n",
    "the code below loads all necessary modules. we can start measure some data."
   ]
  },
  {
   "cell_type": "code",
   "execution_count": 3,
   "id": "95890071",
   "metadata": {},
   "outputs": [],
   "source": [
    "# generate some data\n",
    "#data_ = read_data()\n",
    "sample_name_ = \"test\"\n",
    "time_ = dt.now().strftime(\"%Y%m%d_%H%M%S\")"
   ]
  },
  {
   "cell_type": "code",
   "execution_count": 10,
   "id": "eaf0b149",
   "metadata": {},
   "outputs": [
    {
     "data": {
      "text/plain": [
       "0      0.00\n",
       "1    940.38\n",
       "2    953.06\n",
       "dtype: float64"
      ]
     },
     "execution_count": 10,
     "metadata": {},
     "output_type": "execute_result"
    }
   ],
   "source": [
    "#measuring nothing\n",
    "data = pd.DataFrame(data_).mean()\n",
    "data"
   ]
  },
  {
   "cell_type": "code",
   "execution_count": 67,
   "id": "085bb8c0",
   "metadata": {},
   "outputs": [
    {
     "name": "stdout",
     "output_type": "stream",
     "text": [
      "{0: [413, 413, 413, 413, 413, 413, 413, 413, 413, 413, 413, 413, 413, 413, 413, 413, 413, 413, 413, 413, 413, 413, 413, 413, 413, 413, 413, 413, 413, 413, 413, 413, 413, 413, 413, 413, 413, 413, 413, 413, 413, 413, 413, 413, 413, 413, 413, 413, 413, 413], 1: [883, 883, 882, 883, 883, 883, 883, 882, 882, 882, 882, 881, 882, 882, 881, 881, 882, 882, 882, 884, 881, 881, 882, 882, 882, 881, 883, 883, 883, 883, 883, 883, 883, 883, 883, 883, 883, 883, 883, 883, 883, 883, 883, 883, 883, 883, 883, 883, 883, 883], 2: [897, 897, 897, 898, 897, 897, 898, 897, 898, 897, 897, 897, 897, 896, 896, 897, 897, 896, 897, 896, 896, 898, 896, 897, 897, 897, 897, 897, 897, 897, 897, 898, 898, 897, 898, 898, 898, 898, 897, 898, 898, 898, 898, 898, 898, 898, 898, 898, 898, 898]}\n"
     ]
    },
    {
     "data": {
      "text/plain": [
       "0    413.00\n",
       "1    882.52\n",
       "2    897.30\n",
       "dtype: float64"
      ]
     },
     "execution_count": 67,
     "metadata": {},
     "output_type": "execute_result"
    }
   ],
   "source": [
    "#data_water_tap_ = read_data()\n",
    "print( data_water_tap_ )\n",
    "pd.DataFrame(data_water_tap_).mean()"
   ]
  },
  {
   "cell_type": "code",
   "execution_count": 64,
   "id": "06cdcad9",
   "metadata": {},
   "outputs": [
    {
     "name": "stdout",
     "output_type": "stream",
     "text": [
      "{0: [378, 378, 378, 378, 378, 378, 378, 378, 378, 378, 378, 378, 378, 378, 378, 378, 378, 377, 378, 377, 377, 377, 377, 378, 377, 377, 377, 377, 377, 377, 377, 377, 377, 377, 377, 377, 377, 377, 377, 377, 377, 377, 377, 377, 377, 377, 377, 377, 377, 377], 1: [912, 912, 911, 911, 910, 911, 911, 911, 911, 912, 911, 911, 912, 911, 911, 911, 911, 911, 913, 911, 913, 912, 912, 912, 912, 964, 964, 964, 965, 965, 965, 965, 964, 965, 965, 965, 966, 966, 965, 966, 967, 964, 966, 964, 965, 966, 965, 964, 965, 966], 2: [928, 926, 926, 925, 925, 925, 926, 925, 925, 925, 925, 924, 926, 925, 927, 926, 926, 927, 925, 926, 928, 925, 927, 927, 926, 988, 988, 988, 988, 988, 988, 988, 988, 989, 989, 988, 988, 988, 989, 989, 990, 991, 988, 990, 988, 991, 988, 988, 988, 988]}\n"
     ]
    },
    {
     "data": {
      "text/plain": [
       "0    377.38\n",
       "1    938.24\n",
       "2    957.20\n",
       "dtype: float64"
      ]
     },
     "execution_count": 64,
     "metadata": {},
     "output_type": "execute_result"
    }
   ],
   "source": [
    "#data_water_sm_ = read_data()\n",
    "print(data_water_sm_)\n",
    "pd.DataFrame(data_water_sm_).mean()"
   ]
  },
  {
   "cell_type": "code",
   "execution_count": 69,
   "id": "be7013a8",
   "metadata": {},
   "outputs": [
    {
     "name": "stdout",
     "output_type": "stream",
     "text": [
      "{0: [386, 397, 394, 386, 398, 392, 386, 398, 391, 386, 399, 390, 388, 400, 389, 387, 400, 388, 387, 401, 388, 388, 402, 387, 388, 402, 386, 389, 403, 386, 389, 404, 386, 390, 404, 385, 390, 405, 385, 391, 406, 385, 392, 406, 385, 392, 407, 384, 393, 406], 1: [790, 793, 789, 789, 793, 789, 789, 793, 788, 789, 793, 788, 789, 793, 787, 789, 793, 787, 789, 794, 787, 789, 793, 786, 788, 794, 786, 788, 793, 785, 787, 794, 783, 788, 794, 783, 788, 793, 784, 787, 794, 785, 787, 795, 784, 788, 789, 785, 788, 788], 2: [791, 802, 777, 792, 803, 778, 791, 803, 779, 791, 804, 779, 793, 805, 780, 793, 805, 780, 794, 805, 781, 795, 805, 783, 795, 807, 783, 796, 807, 785, 797, 808, 784, 799, 807, 785, 797, 807, 786, 798, 809, 786, 798, 807, 787, 799, 769, 787, 799, 771]}\n"
     ]
    },
    {
     "data": {
      "text/plain": [
       "0    392.94\n",
       "1    789.14\n",
       "2    793.24\n",
       "dtype: float64"
      ]
     },
     "execution_count": 69,
     "metadata": {},
     "output_type": "execute_result"
    }
   ],
   "source": [
    "#data_apple_ = read_data()\n",
    "print( data_apple_ )\n",
    "pd.DataFrame(data_apple_).mean()"
   ]
  },
  {
   "cell_type": "code",
   "execution_count": 24,
   "id": "77a82534",
   "metadata": {},
   "outputs": [
    {
     "data": {
      "text/plain": [
       "0    410.14\n",
       "1    813.06\n",
       "2    828.30\n",
       "dtype: float64"
      ]
     },
     "execution_count": 24,
     "metadata": {},
     "output_type": "execute_result"
    }
   ],
   "source": [
    "#data_milk_ = read_data()\n",
    "#pd.DataFrame(data_milk_).mean()"
   ]
  },
  {
   "cell_type": "code",
   "execution_count": 25,
   "id": "b0d103f6",
   "metadata": {},
   "outputs": [
    {
     "data": {
      "text/plain": [
       "0    407.02\n",
       "1    814.36\n",
       "2    829.96\n",
       "dtype: float64"
      ]
     },
     "execution_count": 25,
     "metadata": {},
     "output_type": "execute_result"
    }
   ],
   "source": [
    "#data_milk_ = read_data()\n",
    "#pd.DataFrame(data_milk_).mean()"
   ]
  },
  {
   "cell_type": "code",
   "execution_count": 29,
   "id": "a63fedfd",
   "metadata": {},
   "outputs": [
    {
     "data": {
      "text/plain": [
       "0    402.62\n",
       "1    819.62\n",
       "2    835.16\n",
       "dtype: float64"
      ]
     },
     "execution_count": 29,
     "metadata": {},
     "output_type": "execute_result"
    }
   ],
   "source": [
    "#data_milk_ = read_data()\n",
    "pd.DataFrame(data_milk_).mean()"
   ]
  },
  {
   "cell_type": "code",
   "execution_count": 30,
   "id": "7adb5d02",
   "metadata": {},
   "outputs": [
    {
     "data": {
      "text/plain": [
       "0    392.56\n",
       "1    794.04\n",
       "2    787.26\n",
       "dtype: float64"
      ]
     },
     "execution_count": 30,
     "metadata": {},
     "output_type": "execute_result"
    }
   ],
   "source": [
    "#data_coffee_ = read_data()\n",
    "#pd.DataFrame(data_coffee_).mean()"
   ]
  },
  {
   "cell_type": "code",
   "execution_count": 33,
   "id": "4e800aff",
   "metadata": {},
   "outputs": [
    {
     "data": {
      "text/plain": [
       "0    389.08\n",
       "1    794.34\n",
       "2    786.00\n",
       "dtype: float64"
      ]
     },
     "execution_count": 33,
     "metadata": {},
     "output_type": "execute_result"
    }
   ],
   "source": [
    "#data_coffee_ = read_data()\n",
    "pd.DataFrame(data_coffee_).mean()"
   ]
  },
  {
   "cell_type": "code",
   "execution_count": 37,
   "id": "2e85af63",
   "metadata": {},
   "outputs": [
    {
     "data": {
      "text/plain": [
       "0      0.00\n",
       "1    939.20\n",
       "2    953.06\n",
       "dtype: float64"
      ]
     },
     "execution_count": 37,
     "metadata": {},
     "output_type": "execute_result"
    }
   ],
   "source": [
    "\n",
    "test_ = read_data()\n",
    "pd.DataFrame( test_ ).mean()"
   ]
  },
  {
   "cell_type": "markdown",
   "id": "c285171c",
   "metadata": {},
   "source": [
    "## Merge everything into one dataframe"
   ]
  },
  {
   "cell_type": "code",
   "execution_count": null,
   "id": "3514fc8d",
   "metadata": {},
   "outputs": [],
   "source": [
    "df_main = {\n",
    "  time_ + \"_\" +\"water_tap\" : pd.DataFrame(data_water_tap_).mean() ,\n",
    "  time_ + \"_\" +\"water_sm\" : pd.DataFrame(data_water_sm_).mean() ,\n",
    "  time_ + \"_\" +\"apple\" : pd.DataFrame(data_apple_).mean() ,\n",
    "  time_ + \"_\" +\"milk\" : pd.DataFrame(data_milk_).mean() ,\n",
    "  time_ + \"_\" +\"coffee\" : pd.DataFrame(data_coffee_).mean()     \n",
    "}\n",
    "\n",
    "df = pd.DataFrame( df_main )\n"
   ]
  },
  {
   "cell_type": "code",
   "execution_count": 71,
   "id": "9e6595d6",
   "metadata": {},
   "outputs": [
    {
     "data": {
      "text/html": [
       "<div>\n",
       "<style scoped>\n",
       "    .dataframe tbody tr th:only-of-type {\n",
       "        vertical-align: middle;\n",
       "    }\n",
       "\n",
       "    .dataframe tbody tr th {\n",
       "        vertical-align: top;\n",
       "    }\n",
       "\n",
       "    .dataframe thead th {\n",
       "        text-align: right;\n",
       "    }\n",
       "</style>\n",
       "<table border=\"1\" class=\"dataframe\">\n",
       "  <thead>\n",
       "    <tr style=\"text-align: right;\">\n",
       "      <th></th>\n",
       "      <th>sensor_0</th>\n",
       "      <th>sensor_1</th>\n",
       "      <th>sensor_2</th>\n",
       "    </tr>\n",
       "  </thead>\n",
       "  <tbody>\n",
       "    <tr>\n",
       "      <th>water_tap</th>\n",
       "      <td>413.00</td>\n",
       "      <td>882.52</td>\n",
       "      <td>897.30</td>\n",
       "    </tr>\n",
       "    <tr>\n",
       "      <th>water_sm</th>\n",
       "      <td>377.38</td>\n",
       "      <td>938.24</td>\n",
       "      <td>957.20</td>\n",
       "    </tr>\n",
       "    <tr>\n",
       "      <th>apple</th>\n",
       "      <td>392.94</td>\n",
       "      <td>789.14</td>\n",
       "      <td>793.24</td>\n",
       "    </tr>\n",
       "    <tr>\n",
       "      <th>milk</th>\n",
       "      <td>402.62</td>\n",
       "      <td>819.62</td>\n",
       "      <td>835.16</td>\n",
       "    </tr>\n",
       "    <tr>\n",
       "      <th>coffee</th>\n",
       "      <td>389.08</td>\n",
       "      <td>794.34</td>\n",
       "      <td>786.00</td>\n",
       "    </tr>\n",
       "  </tbody>\n",
       "</table>\n",
       "</div>"
      ],
      "text/plain": [
       "           sensor_0  sensor_1  sensor_2\n",
       "water_tap    413.00    882.52    897.30\n",
       "water_sm     377.38    938.24    957.20\n",
       "apple        392.94    789.14    793.24\n",
       "milk         402.62    819.62    835.16\n",
       "coffee       389.08    794.34    786.00"
      ]
     },
     "execution_count": 71,
     "metadata": {},
     "output_type": "execute_result"
    }
   ],
   "source": [
    "# Transpose the DataFrame\n",
    "df_transposed = df.T\n",
    "df_transposed.columns = [f'sensor_{i}' for i in range(df_transposed.shape[1])] # Rename columns for clarity\n",
    "df_transposed"
   ]
  },
  {
   "cell_type": "code",
   "execution_count": 72,
   "id": "f51e8253",
   "metadata": {},
   "outputs": [],
   "source": [
    "# Perform PCA on the transposed DataFrame\n",
    "# For demonstration, we'll reduce to 2 components for plotting\n",
    "pca = PCA(n_components=2)\n",
    "principal_components_transposed = pca.fit_transform(df_transposed)\n"
   ]
  },
  {
   "cell_type": "code",
   "execution_count": 73,
   "id": "c3b1e95b",
   "metadata": {},
   "outputs": [
    {
     "name": "stdout",
     "output_type": "stream",
     "text": [
      "\n",
      "Explained variance ratio for each component (on transposed data):\n",
      "[0.97905678 0.01906019]\n"
     ]
    }
   ],
   "source": [
    "# Create a DataFrame for the principal components\n",
    "pca_df_transposed = pd.DataFrame(data=principal_components_transposed,\n",
    "                                 columns=['Principal Component 1', 'Principal Component 2'],\n",
    "                                index = df_transposed.index)\n",
    "\n",
    "# Print the explained variance ratio\n",
    "print(\"\\nExplained variance ratio for each component (on transposed data):\")\n",
    "print(pca.explained_variance_ratio_)\n"
   ]
  },
  {
   "cell_type": "code",
   "execution_count": 59,
   "id": "9fae6e62",
   "metadata": {},
   "outputs": [
    {
     "data": {
      "text/html": [
       "<div>\n",
       "<style scoped>\n",
       "    .dataframe tbody tr th:only-of-type {\n",
       "        vertical-align: middle;\n",
       "    }\n",
       "\n",
       "    .dataframe tbody tr th {\n",
       "        vertical-align: top;\n",
       "    }\n",
       "\n",
       "    .dataframe thead th {\n",
       "        text-align: right;\n",
       "    }\n",
       "</style>\n",
       "<table border=\"1\" class=\"dataframe\">\n",
       "  <thead>\n",
       "    <tr style=\"text-align: right;\">\n",
       "      <th></th>\n",
       "      <th>Principal Component 1</th>\n",
       "      <th>Principal Component 2</th>\n",
       "    </tr>\n",
       "  </thead>\n",
       "  <tbody>\n",
       "    <tr>\n",
       "      <th>water_tap</th>\n",
       "      <td>31.271600</td>\n",
       "      <td>6.280000</td>\n",
       "    </tr>\n",
       "    <tr>\n",
       "      <th>water_sm</th>\n",
       "      <td>146.483552</td>\n",
       "      <td>-5.711659</td>\n",
       "    </tr>\n",
       "    <tr>\n",
       "      <th>apple</th>\n",
       "      <td>-75.632808</td>\n",
       "      <td>-1.881799</td>\n",
       "    </tr>\n",
       "    <tr>\n",
       "      <th>milk</th>\n",
       "      <td>-24.713292</td>\n",
       "      <td>11.379023</td>\n",
       "    </tr>\n",
       "    <tr>\n",
       "      <th>coffe</th>\n",
       "      <td>-77.409052</td>\n",
       "      <td>-10.065565</td>\n",
       "    </tr>\n",
       "  </tbody>\n",
       "</table>\n",
       "</div>"
      ],
      "text/plain": [
       "           Principal Component 1  Principal Component 2\n",
       "water_tap              31.271600               6.280000\n",
       "water_sm              146.483552              -5.711659\n",
       "apple                 -75.632808              -1.881799\n",
       "milk                  -24.713292              11.379023\n",
       "coffe                 -77.409052             -10.065565"
      ]
     },
     "execution_count": 59,
     "metadata": {},
     "output_type": "execute_result"
    }
   ],
   "source": [
    "pca_df_transposed"
   ]
  },
  {
   "cell_type": "code",
   "execution_count": 74,
   "id": "f19650d9",
   "metadata": {},
   "outputs": [
    {
     "name": "stdout",
     "output_type": "stream",
     "text": [
      "PCA plot of transposed DataFrame saved as pca_transposed_plot.png\n"
     ]
    },
    {
     "name": "stderr",
     "output_type": "stream",
     "text": [
      "/tmp/ipykernel_7715/1662187912.py:16: FutureWarning: Series.__getitem__ treating keys as positions is deprecated. In a future version, integer keys will always be treated as labels (consistent with DataFrame behavior). To access a value by position, use `ser.iloc[pos]`\n",
      "  (pca_df_transposed['Principal Component 1'][i], # X-coordinate\n",
      "/tmp/ipykernel_7715/1662187912.py:17: FutureWarning: Series.__getitem__ treating keys as positions is deprecated. In a future version, integer keys will always be treated as labels (consistent with DataFrame behavior). To access a value by position, use `ser.iloc[pos]`\n",
      "  pca_df_transposed['Principal Component 2'][i]),# Y-coordinate\n"
     ]
    },
    {
     "data": {
      "image/png": "[encoded data removed]",
      "text/plain": [
       "<Figure size 800x600 with 1 Axes>"
      ]
     },
     "metadata": {},
     "output_type": "display_data"
    }
   ],
   "source": [
    "# Plotting the PCA results\n",
    "\n",
    "plt.figure(figsize=(8, 6))\n",
    "plt.scatter(pca_df_transposed['Principal Component 1'], pca_df_transposed['Principal Component 2'])\n",
    "plt.xlabel('Principal Component 1')\n",
    "plt.ylabel('Principal Component 2')\n",
    "plt.title('PCA of Transposed DataFrame')\n",
    "plt.grid(True)\n",
    "plt.savefig('pca_transposed_plot.png')\n",
    "print(\"PCA plot of transposed DataFrame saved as pca_transposed_plot.png\")\n",
    "\n",
    "\n",
    "# Add labels to each point\n",
    "for i, label in enumerate(pca_df_transposed.index):\n",
    "    plt.annotate(label,                 # The text label\n",
    "                 (pca_df_transposed['Principal Component 1'][i], # X-coordinate\n",
    "                  pca_df_transposed['Principal Component 2'][i]),# Y-coordinate\n",
    "                 textcoords=\"offset points\", # How to position the text\n",
    "                 xytext=(5,5),             # Distance from the point (x,y)\n",
    "                 ha='left',                # Horizontal alignment\n",
    "                 va='bottom')              # Vertical alignment\n",
    "\n"
   ]
  },
  {
   "cell_type": "code",
   "execution_count": 81,
   "id": "a081d80c",
   "metadata": {},
   "outputs": [
    {
     "name": "stdout",
     "output_type": "stream",
     "text": [
      "\n",
      "DataFrame with Principal Components (on transposed data):\n",
      "           Principal Component 1  Principal Component 2\n",
      "water_tap              57.106960              19.227077\n",
      "water_sm              139.807594             -13.983217\n",
      "apple                 -82.115797              -3.827679\n",
      "milk                  -30.787202               7.960105\n",
      "coffee                -84.011555              -9.376287\n"
     ]
    }
   ],
   "source": [
    "# Display the DataFrame with principal components\n",
    "print(\"\\nDataFrame with Principal Components (on transposed data):\")\n",
    "print(pca_df_transposed)"
   ]
  },
  {
   "cell_type": "markdown",
   "id": "db93e3de",
   "metadata": {},
   "source": [
    "## Saving the new data to the pickle file"
   ]
  },
  {
   "cell_type": "code",
   "execution_count": 77,
   "id": "3fd428c1",
   "metadata": {},
   "outputs": [
    {
     "data": {
      "text/plain": [
       "dict_keys(['20250614_180011_test'])"
      ]
     },
     "execution_count": 77,
     "metadata": {},
     "output_type": "execute_result"
    }
   ],
   "source": [
    "data_stored.keys()"
   ]
  },
  {
   "cell_type": "code",
   "execution_count": 83,
   "id": "39c1ae53",
   "metadata": {},
   "outputs": [],
   "source": [
    "data_new = {\n",
    "  time_ + \"_\" +\"water_tap\" : data_water_tap_ ,\n",
    "  time_ + \"_\" +\"water_sm\" : data_water_sm_ ,\n",
    "  time_ + \"_\" +\"apple\" : data_apple_ ,\n",
    "  time_ + \"_\" +\"milk\" : data_milk_ ,\n",
    "  time_ + \"_\" +\"coffee\" : data_coffee_     \n",
    "}\n",
    "\n",
    "\n"
   ]
  },
  {
   "cell_type": "code",
   "execution_count": 87,
   "id": "0bc8b557",
   "metadata": {},
   "outputs": [
    {
     "data": {
      "text/plain": [
       "dict_keys(['20250614_180011_test', '20250629_171525_water_tap', '20250629_171525_water_sm', '20250629_171525_apple', '20250629_171525_milk', '20250629_171525_coffee'])"
      ]
     },
     "execution_count": 87,
     "metadata": {},
     "output_type": "execute_result"
    }
   ],
   "source": [
    "data_stored = data_stored | data_new\n",
    "data_stored.keys()"
   ]
  },
  {
   "cell_type": "code",
   "execution_count": 89,
   "id": "7133495a",
   "metadata": {},
   "outputs": [],
   "source": [
    "# add new data\n",
    "store_data = True\n",
    "if store_data == True:\n",
    "   with open( db_name , 'wb') as f:\n",
    "       pickle.dump( data_stored , f) \n"
   ]
  },
  {
   "cell_type": "code",
   "execution_count": 90,
   "id": "963439be",
   "metadata": {},
   "outputs": [
    {
     "name": "stdout",
     "output_type": "stream",
     "text": [
      "loading previous data\n"
     ]
    }
   ],
   "source": [
    "# check if previous measurements were made\n",
    "db_name = \"data.pickle\"\n",
    "if os.path.exists( db_name ):\n",
    "    print(\"loading previous data\")\n",
    "    with open( db_name , \"rb\" ) as f:\n",
    "        data_stored = pickle.load( f )\n",
    "else:\n",
    "    print(\"making new database\")\n",
    "    data_stored = {}"
   ]
  },
  {
   "cell_type": "code",
   "execution_count": 91,
   "id": "86eb6fdb",
   "metadata": {},
   "outputs": [
    {
     "data": {
      "text/plain": [
       "dict_items([('20250614_180011_test', {0: [0, 0, 0, 0, 0, 0, 0, 0, 0, 0, 0, 0, 0, 0, 0, 0, 0, 0, 0, 0, 0, 0, 0, 0, 0, 0, 0, 0, 0, 0, 0, 0, 0, 0, 0, 0, 0, 0, 0, 0, 0, 0, 0, 0, 0, 0, 0, 0, 0, 0], 1: [938, 939, 938, 937, 937, 938, 938, 938, 937, 938, 937, 938, 937, 937, 937, 937, 936, 936, 937, 936, 936, 937, 937, 938, 937, 937, 938, 937, 938, 938, 938, 937, 938, 939, 938, 938, 938, 938, 938, 938, 939, 938, 939, 939, 938, 938, 938, 938, 937, 939], 2: [952, 953, 953, 953, 953, 953, 953, 953, 953, 953, 952, 952, 952, 953, 951, 952, 952, 952, 951, 952, 952, 951, 952, 952, 952, 952, 952, 952, 953, 952, 953, 953, 953, 953, 953, 953, 953, 953, 952, 953, 953, 953, 953, 953, 953, 953, 953, 954, 953, 954]}), ('20250629_171525_water_tap', {0: [413, 413, 413, 413, 413, 413, 413, 413, 413, 413, 413, 413, 413, 413, 413, 413, 413, 413, 413, 413, 413, 413, 413, 413, 413, 413, 413, 413, 413, 413, 413, 413, 413, 413, 413, 413, 413, 413, 413, 413, 413, 413, 413, 413, 413, 413, 413, 413, 413, 413], 1: [883, 883, 882, 883, 883, 883, 883, 882, 882, 882, 882, 881, 882, 882, 881, 881, 882, 882, 882, 884, 881, 881, 882, 882, 882, 881, 883, 883, 883, 883, 883, 883, 883, 883, 883, 883, 883, 883, 883, 883, 883, 883, 883, 883, 883, 883, 883, 883, 883, 883], 2: [897, 897, 897, 898, 897, 897, 898, 897, 898, 897, 897, 897, 897, 896, 896, 897, 897, 896, 897, 896, 896, 898, 896, 897, 897, 897, 897, 897, 897, 897, 897, 898, 898, 897, 898, 898, 898, 898, 897, 898, 898, 898, 898, 898, 898, 898, 898, 898, 898, 898]}), ('20250629_171525_water_sm', {0: [378, 378, 378, 378, 378, 378, 378, 378, 378, 378, 378, 378, 378, 378, 378, 378, 378, 377, 378, 377, 377, 377, 377, 378, 377, 377, 377, 377, 377, 377, 377, 377, 377, 377, 377, 377, 377, 377, 377, 377, 377, 377, 377, 377, 377, 377, 377, 377, 377, 377], 1: [912, 912, 911, 911, 910, 911, 911, 911, 911, 912, 911, 911, 912, 911, 911, 911, 911, 911, 913, 911, 913, 912, 912, 912, 912, 964, 964, 964, 965, 965, 965, 965, 964, 965, 965, 965, 966, 966, 965, 966, 967, 964, 966, 964, 965, 966, 965, 964, 965, 966], 2: [928, 926, 926, 925, 925, 925, 926, 925, 925, 925, 925, 924, 926, 925, 927, 926, 926, 927, 925, 926, 928, 925, 927, 927, 926, 988, 988, 988, 988, 988, 988, 988, 988, 989, 989, 988, 988, 988, 989, 989, 990, 991, 988, 990, 988, 991, 988, 988, 988, 988]}), ('20250629_171525_apple', {0: [386, 397, 394, 386, 398, 392, 386, 398, 391, 386, 399, 390, 388, 400, 389, 387, 400, 388, 387, 401, 388, 388, 402, 387, 388, 402, 386, 389, 403, 386, 389, 404, 386, 390, 404, 385, 390, 405, 385, 391, 406, 385, 392, 406, 385, 392, 407, 384, 393, 406], 1: [790, 793, 789, 789, 793, 789, 789, 793, 788, 789, 793, 788, 789, 793, 787, 789, 793, 787, 789, 794, 787, 789, 793, 786, 788, 794, 786, 788, 793, 785, 787, 794, 783, 788, 794, 783, 788, 793, 784, 787, 794, 785, 787, 795, 784, 788, 789, 785, 788, 788], 2: [791, 802, 777, 792, 803, 778, 791, 803, 779, 791, 804, 779, 793, 805, 780, 793, 805, 780, 794, 805, 781, 795, 805, 783, 795, 807, 783, 796, 807, 785, 797, 808, 784, 799, 807, 785, 797, 807, 786, 798, 809, 786, 798, 807, 787, 799, 769, 787, 799, 771]}), ('20250629_171525_milk', {0: [405, 406, 398, 405, 405, 398, 405, 405, 398, 406, 404, 398, 406, 403, 398, 406, 402, 399, 407, 402, 399, 407, 401, 399, 407, 401, 399, 408, 400, 399, 408, 400, 399, 409, 399, 400, 409, 399, 400, 409, 399, 400, 409, 398, 400, 410, 398, 401, 410, 398], 1: [827, 808, 819, 827, 808, 819, 825, 807, 819, 826, 809, 821, 827, 811, 819, 827, 811, 820, 827, 810, 819, 828, 810, 821, 828, 811, 820, 828, 812, 821, 828, 812, 821, 828, 813, 822, 828, 812, 822, 828, 813, 821, 828, 814, 821, 828, 813, 821, 829, 814], 2: [842, 822, 834, 843, 824, 835, 842, 823, 835, 842, 824, 834, 844, 825, 835, 844, 825, 836, 843, 825, 836, 843, 826, 836, 844, 826, 836, 844, 826, 837, 844, 827, 836, 844, 828, 837, 844, 828, 836, 845, 828, 837, 844, 827, 838, 844, 829, 838, 844, 829]}), ('20250629_171525_coffee', {0: [381, 388, 402, 381, 392, 391, 382, 395, 384, 385, 400, 381, 387, 403, 381, 391, 392, 382, 395, 385, 384, 399, 381, 387, 403, 381, 391, 393, 381, 394, 386, 384, 398, 381, 386, 402, 381, 390, 395, 381, 394, 387, 383, 398, 382, 386, 402, 380, 390, 396], 1: [793, 794, 798, 793, 794, 795, 793, 796, 794, 793, 795, 794, 794, 799, 794, 793, 796, 792, 795, 795, 793, 796, 793, 793, 792, 793, 794, 796, 794, 795, 795, 793, 796, 794, 794, 796, 793, 795, 796, 793, 794, 794, 793, 796, 793, 793, 796, 793, 794, 797], 2: [779, 793, 763, 783, 795, 771, 787, 798, 775, 789, 802, 779, 791, 762, 782, 796, 770, 786, 799, 775, 788, 802, 779, 792, 785, 781, 796, 769, 786, 799, 774, 789, 801, 778, 792, 804, 782, 795, 769, 785, 797, 774, 789, 801, 778, 791, 804, 781, 795, 769]})])"
      ]
     },
     "execution_count": 91,
     "metadata": {},
     "output_type": "execute_result"
    }
   ],
   "source": [
    "data_stored.items()"
   ]
  },
  {
   "cell_type": "code",
   "execution_count": null,
   "id": "aa261e1e",
   "metadata": {},
   "outputs": [],
   "source": []
  }
 ],
 "metadata": {
  "kernelspec": {
   "display_name": "Python 3 (ipykernel)",
   "language": "python",
   "name": "python3"
  },
  "language_info": {
   "codemirror_mode": {
    "name": "ipython",
    "version": 3
   },
   "file_extension": ".py",
   "mimetype": "text/x-python",
   "name": "python",
   "nbconvert_exporter": "python",
   "pygments_lexer": "ipython3",
   "version": "3.9.2"
  }
 },
 "nbformat": 4,
 "nbformat_minor": 5
}
